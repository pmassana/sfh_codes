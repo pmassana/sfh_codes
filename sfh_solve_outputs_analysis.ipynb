{
 "cells": [
  {
   "cell_type": "code",
   "execution_count": 1,
   "metadata": {},
   "outputs": [],
   "source": [
    "import matplotlib.pyplot as plt\n",
    "import numpy as np\n",
    "import glob\n",
    "import os\n",
    "import sys as sys\n",
    "from astropy.io import ascii\n",
    "from matplotlib.gridspec import GridSpec\n",
    "from astropy.io import fits\n",
    "import matplotlib.colors as colors\n",
    "#import skymapper as skm\n",
    "from astropy.coordinates import SkyCoord, SkyOffsetFrame\n",
    "import astropy.units as u\n",
    "#import gala.coordinates as gc\n",
    "import astropy.modeling.projections as proj\n",
    "import healpy as hp\n",
    "import matplotlib.patches as patches\n",
    "from matplotlib.path import Path\n",
    "from astropy.wcs import WCS\n",
    "import mpl_scatter_density\n",
    "from matplotlib.collections import PatchCollection\n",
    "from matplotlib.patches import Polygon"
   ]
  },
  {
   "cell_type": "code",
   "execution_count": 52,
   "metadata": {},
   "outputs": [],
   "source": [
    "region = '36'\n",
    "observed_data = fits.getdata('/home/polmassana/Documents/PhD/SFH/SMC_test5_field/outputs/region_%s_CMD_abs.fits.gz'%(region))\n",
    "sfh_solve_data = np.loadtxt('/home/polmassana/Documents/PhD/SFH/SMC_test5_field/sfh_solve/%s/solution_cmd.out'%(region))\n",
    "sfh_solve_data_fld = np.loadtxt('/home/polmassana/Documents/PhD/SFH/SMC_test5_field/sfh_solve/%s/solution_fld.out'%(region))"
   ]
  },
  {
   "cell_type": "code",
   "execution_count": 53,
   "metadata": {},
   "outputs": [],
   "source": [
    "mag_obs = observed_data['I']\n",
    "colour_obs = observed_data['G'] - observed_data['I']\n",
    "mag_sfh = sfh_solve_data.T[1]\n",
    "colour_sfh = sfh_solve_data.T[0]\n",
    "mag_fld = sfh_solve_data_fld.T[1]\n",
    "colour_fld = sfh_solve_data_fld.T[0]"
   ]
  },
  {
   "cell_type": "code",
   "execution_count": 31,
   "metadata": {},
   "outputs": [],
   "source": [
    "b = [[[1.009,0.252,0.212,0.757,1.822,2.237,2.082,1.269,1.09,1.017,1.009], [0.568,0.177,-0.972,-2.63,-3.739,-3.674,-3.374,-1.05,-0.254,0.542,0.568]], \n",
    "    [[-0.582,0.394,0.475,0.564,1.069,0.995,-0.143,-0.314,-0.59,-0.582], [2.878,1.416,1.743,2.63,3.962,4.484,4.471,3.531,2.865,2.878]],\n",
    "    [[-0.992,-0.366,-0.1,0.212,0.391,-0.593,-0.699,-0.927,-1.008,-0.992], [-3.87,-3.87,-0.189,0.594,1.403,2.865,2.317,-1.207,-3.87,-3.87]],\n",
    "    [[-0.145,-0.314,-0.6,-0.684,-0.937,-1.307,-1.274,-0.785,-0.145], [4.494,3.556,2.852,2.354,-1.223,-1.194,1.562,4.523,4.494]],\n",
    "    [[0.484,0.569,1.079,1.163,1.196,1.222,1.32,0.589,0.478,0.484], [1.752,2.595,3.933,3.668,3.587,2.606,0.725,0.39,1.717,1.752]],\n",
    "    [[1.329,1.435,2.061,2.549,3.484,2.24,2.093,1.248,1.101,1.02,1.329,1.329], [0.712,0.111,-1.546,-2.121,-2.747,-3.661,-3.387,-0.959,-0.267,0.568,0.686,0.712]],\n",
    "    [[1.271,1.365,2.783,3.224,1.28,1.271], [4.079,0.719,-1.84,2.014,4.079,4.079]]]\n",
    "vertex_list = []\n",
    "for item in b:\n",
    "    vertex_list.append(np.array(item).T)\n",
    "\n",
    "#print(vertex_list)\n"
   ]
  },
  {
   "cell_type": "code",
   "execution_count": 114,
   "metadata": {},
   "outputs": [],
   "source": [
    "def CMD_comaprison_plot(colour1, mag1, colour2, mag2, colour3, mag3, vertex_list, region, file_type):\n",
    "    distance_modulus = 18.9\n",
    "    scale = 2\n",
    "    plt.rc('text', usetex=True)\n",
    "    plt.rc('font', family='serif')\n",
    "    plt.rcParams.update({'font.size':scale*18})\n",
    "    fig = plt.figure(figsize=(scale*16,scale*7.45))\n",
    "    gs = GridSpec(1, 4, figure=fig, wspace=0)\n",
    "    #gs.tight_layout(fig, w_pad=0.)\n",
    "    ax1 = fig.add_subplot(gs[0])\n",
    "    ax2 = fig.add_subplot(gs[1])\n",
    "    ax3 = fig.add_subplot(gs[2])\n",
    "    ax4 = fig.add_subplot(gs[3])\n",
    "    axis_list = [ax1, ax2, ax3, ax4]\n",
    "    \n",
    "    xbinsize = 0.01\n",
    "    ybinsize = 0.03\n",
    "    xbins = np.arange( start = -2, stop = 3.5+xbinsize, step = xbinsize)\n",
    "    ybins = np.arange( start = 13.-distance_modulus, stop = 24-distance_modulus+ybinsize, step = ybinsize)\n",
    "    density1 = ax1.hist2d(colour1, mag1, bins=[xbins, ybins], cmap='magma', norm=colors.LogNorm(vmin=1), rasterized = True)\n",
    "    density2 = ax2.hist2d(colour2, mag2, bins=[xbins, ybins], cmap='magma', norm=colors.LogNorm(vmin=1), rasterized = True)\n",
    "    density3 = ax3.hist2d(colour3, mag3, bins=[xbins, ybins], cmap='magma', norm=colors.LogNorm(vmin=1), rasterized = True)\n",
    "    ax4.imshow(density1[0].T-density2[0].T-density3[0].T, extent=[np.min(xbins), np.max(xbins), np.min(ybins), np.max(ybins)], origin='lower', cmap='seismic_r', norm=colors.DivergingNorm(vcenter=0.), rasterized=True)\n",
    "    \n",
    "    xy = (-1.6,-4.1)\n",
    "    ax1.annotate('Observed', xy)\n",
    "    ax2.annotate('Galaxy model', xy)\n",
    "    ax3.annotate('Field model', xy)\n",
    "    ax4.annotate('Residuals', xy)\n",
    "    \n",
    "    colour_polygons = 'cyan'\n",
    "    for pol in vertex_list:\n",
    "        for axs in axis_list:\n",
    "            polygon = Polygon(pol, edgecolor=colour_polygons, fill=False, linewidth=scale*1.2, ls='--')\n",
    "            axs.add_patch(polygon)\n",
    "    \n",
    "    for axs in axis_list:\n",
    "        axs.minorticks_on()\n",
    "        axs.tick_params(which='both', direction='inout')\n",
    "        axs.tick_params(which='major', length=scale*6)\n",
    "        axs.tick_params(which='minor', length=scale*3)\n",
    "        axs.set_xlabel('$(g-i)_0$')\n",
    "        axs.set_ylabel('$I_{0}$')\n",
    "        axs.set_xlim((-2,3.5))\n",
    "        axs.set_ylim((24-distance_modulus, 14.-distance_modulus))\n",
    "        axs.autoscale(False)\n",
    "        axs.label_outer()\n",
    "    \n",
    "    fig.savefig('/home/polmassana/Documents/PhD/SFH/Plots/CMD_comparison_sfh_solve_%s.%s'%(region, file_type), bbox_inches='tight')\n",
    "    plt.close()"
   ]
  },
  {
   "cell_type": "code",
   "execution_count": 115,
   "metadata": {},
   "outputs": [],
   "source": [
    "file_type = 'png'\n",
    "CMD_comaprison_plot(colour_obs, mag_obs, colour_sfh, mag_sfh, colour_fld, mag_fld, vertex_list, region, file_type)"
   ]
  },
  {
   "cell_type": "code",
   "execution_count": null,
   "metadata": {},
   "outputs": [],
   "source": []
  }
 ],
 "metadata": {
  "kernelspec": {
   "display_name": "Python 3",
   "language": "python",
   "name": "python3"
  },
  "language_info": {
   "codemirror_mode": {
    "name": "ipython",
    "version": 3
   },
   "file_extension": ".py",
   "mimetype": "text/x-python",
   "name": "python",
   "nbconvert_exporter": "python",
   "pygments_lexer": "ipython3",
   "version": "3.7.4"
  }
 },
 "nbformat": 4,
 "nbformat_minor": 2
}
